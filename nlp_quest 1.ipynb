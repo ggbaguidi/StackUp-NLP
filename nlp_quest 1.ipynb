{
 "cells": [
  {
   "cell_type": "code",
   "execution_count": 1,
   "id": "d5ecefac",
   "metadata": {},
   "outputs": [],
   "source": [
    "import nltk\n",
    "#Tokenization\n",
    "from nltk import sent_tokenize\n",
    "from nltk import word_tokenize\n",
    "#Remose a stop words\n",
    "from nltk.corpus import stopwords"
   ]
  },
  {
   "cell_type": "code",
   "execution_count": 2,
   "id": "2ce15ca4",
   "metadata": {},
   "outputs": [
    {
     "name": "stdout",
     "output_type": "stream",
     "text": [
      "'nlp_quest 1.ipynb'   quest_1.txt   Untitled.ipynb\r\n"
     ]
    }
   ],
   "source": [
    "%ls"
   ]
  },
  {
   "cell_type": "code",
   "execution_count": 7,
   "id": "0ca25066",
   "metadata": {},
   "outputs": [],
   "source": [
    "with open(\"quest_1.txt\", 'r') as f:\n",
    "    sample = f.readlines()[0]"
   ]
  },
  {
   "cell_type": "code",
   "execution_count": 8,
   "id": "e0f18dff",
   "metadata": {},
   "outputs": [
    {
     "name": "stdout",
     "output_type": "stream",
     "text": [
      "As I walked down the street, the sound of honking cars and chatter filled my ears. The sun beat down on my skin, making me feel hot and sticky. I decided to stop at the nearby cafe to grad an iced coffee. The air conditioning inside was a welcome relief from the heat outside. T took a sip of the refreshing drink and felt the coolness spread throughout my body. Sitting down at a table, I watched as peope hurried by outside, going about their day.\n",
      "\n"
     ]
    }
   ],
   "source": [
    "print(sample)"
   ]
  },
  {
   "cell_type": "code",
   "execution_count": 9,
   "id": "4804f139",
   "metadata": {},
   "outputs": [
    {
     "name": "stdout",
     "output_type": "stream",
     "text": [
      "['As I walked down the street, the sound of honking cars and chatter filled my ears.', 'The sun beat down on my skin, making me feel hot and sticky.', 'I decided to stop at the nearby cafe to grad an iced coffee.', 'The air conditioning inside was a welcome relief from the heat outside.', 'T took a sip of the refreshing drink and felt the coolness spread throughout my body.', 'Sitting down at a table, I watched as peope hurried by outside, going about their day.']\n"
     ]
    }
   ],
   "source": [
    "sentence_tokens = sent_tokenize(sample)\n",
    "print(sentence_tokens)"
   ]
  },
  {
   "cell_type": "code",
   "execution_count": 10,
   "id": "30a6e8b3",
   "metadata": {},
   "outputs": [
    {
     "name": "stdout",
     "output_type": "stream",
     "text": [
      "['As', 'I', 'walked', 'down', 'the', 'street', ',', 'the', 'sound', 'of', 'honking', 'cars', 'and', 'chatter', 'filled', 'my', 'ears', '.', 'The', 'sun', 'beat', 'down', 'on', 'my', 'skin', ',', 'making', 'me', 'feel', 'hot', 'and', 'sticky', '.', 'I', 'decided', 'to', 'stop', 'at', 'the', 'nearby', 'cafe', 'to', 'grad', 'an', 'iced', 'coffee', '.', 'The', 'air', 'conditioning', 'inside', 'was', 'a', 'welcome', 'relief', 'from', 'the', 'heat', 'outside', '.', 'T', 'took', 'a', 'sip', 'of', 'the', 'refreshing', 'drink', 'and', 'felt', 'the', 'coolness', 'spread', 'throughout', 'my', 'body', '.', 'Sitting', 'down', 'at', 'a', 'table', ',', 'I', 'watched', 'as', 'peope', 'hurried', 'by', 'outside', ',', 'going', 'about', 'their', 'day', '.']\n"
     ]
    }
   ],
   "source": [
    "word_tokens = word_tokenize(sample)\n",
    "print(word_tokens)"
   ]
  },
  {
   "cell_type": "code",
   "execution_count": 12,
   "id": "87ef6c21",
   "metadata": {},
   "outputs": [
    {
     "name": "stdout",
     "output_type": "stream",
     "text": [
      "['As', 'I', 'walked', 'street', ',', 'sound', 'honking', 'cars', 'chatter', 'filled', 'ears', '.', 'The', 'sun', 'beat', 'skin', ',', 'making', 'feel', 'hot', 'sticky', '.', 'I', 'decided', 'stop', 'nearby', 'cafe', 'grad', 'iced', 'coffee', '.', 'The', 'air', 'conditioning', 'inside', 'welcome', 'relief', 'heat', 'outside', '.', 'T', 'took', 'sip', 'refreshing', 'drink', 'felt', 'coolness', 'spread', 'throughout', 'body', '.', 'Sitting', 'table', ',', 'I', 'watched', 'peope', 'hurried', 'outside', ',', 'going', 'day', '.']\n"
     ]
    }
   ],
   "source": [
    "stopwords = set(stopwords.words('english'))\n",
    "stopwords_removed = [word for word in word_tokens if word not in stopwords]\n",
    "print(stopwords_removed)"
   ]
  },
  {
   "cell_type": "code",
   "execution_count": 13,
   "id": "2674ceee",
   "metadata": {},
   "outputs": [],
   "source": [
    "from nltk.stem import PorterStemmer\n",
    "from nltk.stem import WordNetLemmatizer\n",
    "stemmer = PorterStemmer()\n",
    "lemma = WordNetLemmatizer()"
   ]
  },
  {
   "cell_type": "code",
   "execution_count": 14,
   "id": "cefd09db",
   "metadata": {},
   "outputs": [
    {
     "name": "stdout",
     "output_type": "stream",
     "text": [
      "['as', 'i', 'walk', 'street', ',', 'sound', 'honk', 'car', 'chatter', 'fill', 'ear', '.', 'the', 'sun', 'beat', 'skin', ',', 'make', 'feel', 'hot', 'sticki', '.', 'i', 'decid', 'stop', 'nearbi', 'cafe', 'grad', 'ice', 'coffe', '.', 'the', 'air', 'condit', 'insid', 'welcom', 'relief', 'heat', 'outsid', '.', 't', 'took', 'sip', 'refresh', 'drink', 'felt', 'cool', 'spread', 'throughout', 'bodi', '.', 'sit', 'tabl', ',', 'i', 'watch', 'peop', 'hurri', 'outsid', ',', 'go', 'day', '.']\n",
      "['As', 'I', 'walked', 'street', ',', 'sound', 'honking', 'car', 'chatter', 'filled', 'ear', '.', 'The', 'sun', 'beat', 'skin', ',', 'making', 'feel', 'hot', 'sticky', '.', 'I', 'decided', 'stop', 'nearby', 'cafe', 'grad', 'iced', 'coffee', '.', 'The', 'air', 'conditioning', 'inside', 'welcome', 'relief', 'heat', 'outside', '.', 'T', 'took', 'sip', 'refreshing', 'drink', 'felt', 'coolness', 'spread', 'throughout', 'body', '.', 'Sitting', 'table', ',', 'I', 'watched', 'peope', 'hurried', 'outside', ',', 'going', 'day', '.']\n"
     ]
    }
   ],
   "source": [
    "sample_stem = [stemmer.stem(word) for word in stopwords_removed]\n",
    "sample_lemma = [lemma.lemmatize(word) for word in stopwords_removed]\n",
    "print(sample_stem)\n",
    "print(sample_lemma)"
   ]
  },
  {
   "cell_type": "code",
   "execution_count": 15,
   "id": "3d68e5d0",
   "metadata": {},
   "outputs": [
    {
     "name": "stdout",
     "output_type": "stream",
     "text": [
      "As I walked down the street, the sound of honking cars and chatter filled my ears. The sun beat down on my skin, making me feel hot and sticky. I decided to stop at the nearby cafe to grad an iced coffee. The air conditioning inside was a welcome relief from the heat outside. T took a sip of the refreshing drink and felt the coolness spread throughout my body. Sitting down at a table, I watched as peope hurried by outside, going about their day.\n",
      " \n",
      "\n",
      "['As I walked down the street, the sound of honking cars and chatter filled my ears.', 'The sun beat down on my skin, making me feel hot and sticky.', 'I decided to stop at the nearby cafe to grad an iced coffee.', 'The air conditioning inside was a welcome relief from the heat outside.', 'T took a sip of the refreshing drink and felt the coolness spread throughout my body.', 'Sitting down at a table, I watched as peope hurried by outside, going about their day.'] \n",
      "\n",
      "['As', 'I', 'walked', 'down', 'the', 'street', ',', 'the', 'sound', 'of', 'honking', 'cars', 'and', 'chatter', 'filled', 'my', 'ears', '.', 'The', 'sun', 'beat', 'down', 'on', 'my', 'skin', ',', 'making', 'me', 'feel', 'hot', 'and', 'sticky', '.', 'I', 'decided', 'to', 'stop', 'at', 'the', 'nearby', 'cafe', 'to', 'grad', 'an', 'iced', 'coffee', '.', 'The', 'air', 'conditioning', 'inside', 'was', 'a', 'welcome', 'relief', 'from', 'the', 'heat', 'outside', '.', 'T', 'took', 'a', 'sip', 'of', 'the', 'refreshing', 'drink', 'and', 'felt', 'the', 'coolness', 'spread', 'throughout', 'my', 'body', '.', 'Sitting', 'down', 'at', 'a', 'table', ',', 'I', 'watched', 'as', 'peope', 'hurried', 'by', 'outside', ',', 'going', 'about', 'their', 'day', '.'] \n",
      "\n",
      "['As', 'I', 'walked', 'street', ',', 'sound', 'honking', 'cars', 'chatter', 'filled', 'ears', '.', 'The', 'sun', 'beat', 'skin', ',', 'making', 'feel', 'hot', 'sticky', '.', 'I', 'decided', 'stop', 'nearby', 'cafe', 'grad', 'iced', 'coffee', '.', 'The', 'air', 'conditioning', 'inside', 'welcome', 'relief', 'heat', 'outside', '.', 'T', 'took', 'sip', 'refreshing', 'drink', 'felt', 'coolness', 'spread', 'throughout', 'body', '.', 'Sitting', 'table', ',', 'I', 'watched', 'peope', 'hurried', 'outside', ',', 'going', 'day', '.'] \n",
      "\n",
      "Stemming results:  ['as', 'i', 'walk', 'street', ',', 'sound', 'honk', 'car', 'chatter', 'fill', 'ear', '.', 'the', 'sun', 'beat', 'skin', ',', 'make', 'feel', 'hot', 'sticki', '.', 'i', 'decid', 'stop', 'nearbi', 'cafe', 'grad', 'ice', 'coffe', '.', 'the', 'air', 'condit', 'insid', 'welcom', 'relief', 'heat', 'outsid', '.', 't', 'took', 'sip', 'refresh', 'drink', 'felt', 'cool', 'spread', 'throughout', 'bodi', '.', 'sit', 'tabl', ',', 'i', 'watch', 'peop', 'hurri', 'outsid', ',', 'go', 'day', '.'] \n",
      "\n",
      "Lemmatization results:  ['As', 'I', 'walked', 'street', ',', 'sound', 'honking', 'car', 'chatter', 'filled', 'ear', '.', 'The', 'sun', 'beat', 'skin', ',', 'making', 'feel', 'hot', 'sticky', '.', 'I', 'decided', 'stop', 'nearby', 'cafe', 'grad', 'iced', 'coffee', '.', 'The', 'air', 'conditioning', 'inside', 'welcome', 'relief', 'heat', 'outside', '.', 'T', 'took', 'sip', 'refreshing', 'drink', 'felt', 'coolness', 'spread', 'throughout', 'body', '.', 'Sitting', 'table', ',', 'I', 'watched', 'peope', 'hurried', 'outside', ',', 'going', 'day', '.'] \n",
      "\n"
     ]
    }
   ],
   "source": [
    "print(sample, \"\\n\")\n",
    "print(sentence_tokens, \"\\n\")\n",
    "print(word_tokens, \"\\n\")\n",
    "print(stopwords_removed, \"\\n\")\n",
    "print(\"Stemming results: \", sample_stem, \"\\n\")\n",
    "print(\"Lemmatization results: \", sample_lemma, \"\\n\")"
   ]
  },
  {
   "cell_type": "code",
   "execution_count": null,
   "id": "400adceb",
   "metadata": {},
   "outputs": [],
   "source": []
  }
 ],
 "metadata": {
  "kernelspec": {
   "display_name": "Python 3 (ipykernel)",
   "language": "python",
   "name": "python3"
  },
  "language_info": {
   "codemirror_mode": {
    "name": "ipython",
    "version": 3
   },
   "file_extension": ".py",
   "mimetype": "text/x-python",
   "name": "python",
   "nbconvert_exporter": "python",
   "pygments_lexer": "ipython3",
   "version": "3.10.9"
  }
 },
 "nbformat": 4,
 "nbformat_minor": 5
}
