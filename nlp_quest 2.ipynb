{
 "cells": [
  {
   "cell_type": "code",
   "execution_count": 1,
   "id": "3c09964c",
   "metadata": {},
   "outputs": [],
   "source": [
    "from sklearn.feature_extraction.text import CountVectorizer\n",
    "from sklearn.feature_extraction.text import TfidfVectorizer\n",
    "import gensim\n",
    "from gensim.models import Word2Vec\n",
    "import nltk\n",
    "from nltk import word_tokenize"
   ]
  },
  {
   "cell_type": "code",
   "execution_count": 2,
   "id": "5c196e97",
   "metadata": {},
   "outputs": [],
   "source": [
    "count_vectorizer = CountVectorizer()\n",
    "tfidf_vectorizer = TfidfVectorizer(max_features=1000, stop_words='english')"
   ]
  },
  {
   "cell_type": "code",
   "execution_count": 3,
   "id": "31727000",
   "metadata": {},
   "outputs": [],
   "source": [
    "Text = [\n",
    "    \"Data science involves using statistical and computational techniques to extract insights from data.\",\n",
    "    \"In data science, machine learning algorithms are used to build predictive models based on data.\",\n",
    "    \"Big data technologies enable data scientists to process and analyze large volumes of data more efficiently.\",\n",
    "    \"Data visualization is an important part of data science, as it helps to communicate insights effectively.\",\n",
    "    \"Natural language processing is a key area of data science that focuses on understanding and processing human language.\"\n",
    "]"
   ]
  },
  {
   "cell_type": "code",
   "execution_count": 4,
   "id": "e8ca6516",
   "metadata": {},
   "outputs": [],
   "source": [
    "bow = count_vectorizer.fit_transform(Text)"
   ]
  },
  {
   "cell_type": "code",
   "execution_count": 6,
   "id": "9ec656de",
   "metadata": {},
   "outputs": [],
   "source": [
    "tokens_in_text = [nltk.word_tokenize(sentence.lower()) for sentence in Text] \n",
    "\n",
    "model = Word2Vec(tokens_in_text, min_count=1)\n",
    "vector = model.wv['data']"
   ]
  },
  {
   "cell_type": "code",
   "execution_count": 7,
   "id": "590553d7",
   "metadata": {},
   "outputs": [
    {
     "name": "stdout",
     "output_type": "stream",
     "text": [
      "[[0 0 0 1 0 0 0 0 0 0 0 1 2 0 0 0 1 0 1 0 0 0 0 1 1 0 0 0 0 0 0 0 0 0 0 0\n",
      "  0 0 0 0 0 1 0 1 1 0 0 1 0 0 1 0 0]\n",
      " [1 0 0 0 1 0 0 1 0 1 0 0 2 0 0 0 0 0 0 0 0 0 1 0 0 0 0 0 0 0 1 1 1 0 0 0\n",
      "  1 0 1 0 0 1 0 0 0 0 0 1 0 1 0 0 0]\n",
      " [0 0 1 1 0 0 0 0 1 0 0 0 3 0 1 1 0 0 0 0 0 0 0 0 0 0 0 0 0 1 0 0 0 1 0 1\n",
      "  0 0 0 1 0 0 1 0 0 1 0 1 0 0 0 0 1]\n",
      " [0 1 0 0 0 0 1 0 0 0 1 0 2 1 0 0 0 0 0 1 0 1 0 1 0 1 1 0 0 0 0 0 0 0 0 1\n",
      "  0 1 0 0 0 1 0 0 0 0 0 1 0 0 0 1 0]\n",
      " [0 0 0 1 0 1 0 0 0 0 0 0 1 0 0 0 0 1 0 0 1 0 0 0 0 1 0 1 2 0 0 0 0 0 1 1\n",
      "  1 0 0 0 2 1 0 0 0 0 1 0 1 0 0 0 0]]\n",
      "[-5.2632875e-04  2.4626494e-04  5.1056636e-03  9.0121860e-03\n",
      " -9.3100555e-03 -7.1360720e-03  6.4545763e-03  8.9968862e-03\n",
      " -5.0342912e-03 -3.7759554e-03  7.3713781e-03 -1.5255205e-03\n",
      " -4.5267805e-03  6.5674242e-03 -4.8521371e-03 -1.8182786e-03\n",
      "  2.9189556e-03  9.9004630e-04 -8.2834922e-03 -9.4909612e-03\n",
      "  7.3334002e-03  5.0617130e-03  6.7766346e-03  7.3010701e-04\n",
      "  6.3645220e-03 -3.3898759e-03 -9.9091616e-04  5.7606869e-03\n",
      " -7.5248750e-03 -3.9185709e-03 -7.4900761e-03 -9.2462538e-04\n",
      "  9.5550604e-03 -7.3757581e-03 -2.3242137e-03 -1.9327381e-03\n",
      "  8.0564478e-03 -5.9275995e-03  4.6092955e-05 -4.7844085e-03\n",
      " -9.5992442e-03  4.9922969e-03 -8.7329578e-03 -4.3980326e-03\n",
      " -3.4096520e-05 -3.3419993e-04 -7.6827342e-03  9.6019544e-03\n",
      "  4.9984306e-03  9.2397528e-03 -8.1571955e-03  4.4978289e-03\n",
      " -4.1602449e-03  8.3580654e-04  8.5009364e-03 -4.4718990e-03\n",
      "  4.5280159e-03 -6.7858156e-03 -3.5637154e-03  9.4071934e-03\n",
      " -1.5689121e-03  3.2134695e-04 -4.1417060e-03 -7.6359743e-03\n",
      " -1.4987298e-03  2.5080477e-03 -8.8109192e-04  5.5449400e-03\n",
      " -2.7630862e-03  2.2667234e-03  5.4642013e-03  8.3512636e-03\n",
      " -1.4463775e-03 -9.2103332e-03  4.4153943e-03  5.4936326e-04\n",
      "  7.4564563e-03 -7.9142232e-04 -2.6196155e-03 -8.7427795e-03\n",
      " -8.7961950e-04  2.8263938e-03  5.3867069e-03  7.0789959e-03\n",
      " -5.7136607e-03  1.8581348e-03  6.1236243e-03 -4.7726594e-03\n",
      " -3.1079508e-03  6.8039820e-03  1.6626272e-03  1.8674813e-04\n",
      "  3.4897630e-03  2.0885363e-04  9.6252179e-03  5.0668344e-03\n",
      " -8.9272000e-03 -7.0379898e-03  8.8465947e-04  6.4006429e-03]\n"
     ]
    }
   ],
   "source": [
    "print(bow.toarray())\n",
    "print(vector)"
   ]
  },
  {
   "cell_type": "code",
   "execution_count": null,
   "id": "f3037f44",
   "metadata": {},
   "outputs": [],
   "source": []
  }
 ],
 "metadata": {
  "kernelspec": {
   "display_name": "Python 3 (ipykernel)",
   "language": "python",
   "name": "python3"
  },
  "language_info": {
   "codemirror_mode": {
    "name": "ipython",
    "version": 3
   },
   "file_extension": ".py",
   "mimetype": "text/x-python",
   "name": "python",
   "nbconvert_exporter": "python",
   "pygments_lexer": "ipython3",
   "version": "3.10.9"
  }
 },
 "nbformat": 4,
 "nbformat_minor": 5
}
